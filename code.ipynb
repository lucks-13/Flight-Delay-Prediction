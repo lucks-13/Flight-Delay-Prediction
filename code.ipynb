{
  "cells": [
    {
      "cell_type": "markdown",
      "metadata": {
        "id": "mR87_4sc0kPn"
      },
      "source": [
        "# Flight Delay Prediction\n",
        "This notebook predicts a flight delay using usa airport traffic dataset."
      ]
    },
    {
      "cell_type": "markdown",
      "metadata": {
        "id": "oiHzc9ap1F0v"
      },
      "source": [
        "# Import Libraries and Setup"
      ]
    },
    {
      "cell_type": "code",
      "execution_count": 1,
      "metadata": {
        "id": "xPmxAP2L0eci"
      },
      "outputs": [],
      "source": [
        "import pandas as pd\n",
        "import numpy as np\n",
        "import matplotlib.pyplot as plt\n",
        "import seaborn as sns\n",
        "import warnings\n",
        "from datetime import datetime\n",
        "import scipy.stats as stats\n",
        "from scipy.stats import jarque_bera, normaltest, shapiro\n",
        "from statsmodels.stats.diagnostic import het_breuschpagan\n",
        "from statsmodels.stats.stattools import durbin_watson\n",
        "from statsmodels.regression.linear_model import OLS\n",
        "from statsmodels.tsa.seasonal import seasonal_decompose\n",
        "import requests\n",
        "from io import StringIO\n",
        "\n",
        "from sklearn.model_selection import train_test_split, cross_val_score, RandomizedSearchCV, StratifiedKFold\n",
        "from sklearn.preprocessing import StandardScaler, MinMaxScaler, RobustScaler, PowerTransformer, QuantileTransformer\n",
        "from sklearn.preprocessing import LabelEncoder, OneHotEncoder, PolynomialFeatures\n",
        "from sklearn.feature_selection import SelectKBest, f_regression, mutual_info_regression\n",
        "from sklearn.ensemble import RandomForestRegressor, GradientBoostingRegressor, AdaBoostRegressor, VotingRegressor\n",
        "from sklearn.ensemble import StackingRegressor, BaggingRegressor\n",
        "from sklearn.linear_model import LinearRegression, Ridge, Lasso, ElasticNet\n",
        "from sklearn.tree import DecisionTreeRegressor\n",
        "from sklearn.svm import SVR\n",
        "from sklearn.neighbors import KNeighborsRegressor\n",
        "from sklearn.neural_network import MLPRegressor\n",
        "from sklearn.metrics import mean_squared_error, mean_absolute_error, r2_score\n",
        "from sklearn.inspection import permutation_importance\n",
        "from sklearn.compose import ColumnTransformer\n",
        "from sklearn.pipeline import Pipeline\n",
        "\n",
        "warnings.filterwarnings('ignore')\n",
        "plt.style.use('default')\n",
        "sns.set_palette(\"husl\")\n",
        "np.random.seed(42)"
      ]
    },
    {
      "cell_type": "markdown",
      "metadata": {
        "id": "c1zt263C1KFv"
      },
      "source": [
        "# Data Loading and Initial Exploration"
      ]
    },
    {
      "cell_type": "code",
      "execution_count": 2,
      "metadata": {
        "colab": {
          "base_uri": "https://localhost:8080/"
        },
        "id": "4hSlBKJP1KsY",
        "outputId": "635ba026-82f6-46e9-88f9-006c9c7f574c"
      },
      "outputs": [
        {
          "name": "stdout",
          "output_type": "stream",
          "text": [
            "Successfully loaded dataset from URL. Shape: (221, 8)\n",
            "Columns: ['iata', 'airport', 'city', 'state', 'country', 'lat', 'long', 'cnt']\n",
            "Dataset doesn't have delay_minutes column. Creating synthetic dataset...\n",
            "Final dataset shape: (18971, 17)\n",
            "Memory usage: 4.98 MB\n",
            "\n",
            "Dataset Info:\n",
            "<class 'pandas.core.frame.DataFrame'>\n",
            "Index: 18971 entries, 0 to 19999\n",
            "Data columns (total 17 columns):\n",
            " #   Column               Non-Null Count  Dtype  \n",
            "---  ------               --------------  -----  \n",
            " 0   airline              18971 non-null  object \n",
            " 1   origin               18971 non-null  object \n",
            " 2   destination          18971 non-null  object \n",
            " 3   scheduled_departure  18971 non-null  int64  \n",
            " 4   distance             18971 non-null  float64\n",
            " 5   day_of_week          18971 non-null  int64  \n",
            " 6   month                18971 non-null  int64  \n",
            " 7   weather_delay        18971 non-null  float64\n",
            " 8   security_delay       18971 non-null  float64\n",
            " 9   aircraft_delay       18971 non-null  float64\n",
            " 10  late_aircraft_delay  18971 non-null  float64\n",
            " 11  air_traffic_delay    18971 non-null  float64\n",
            " 12  delay_minutes        18971 non-null  float64\n",
            " 13  is_weekend           18971 non-null  int64  \n",
            " 14  is_holiday_season    18971 non-null  int64  \n",
            " 15  departure_hour       18971 non-null  int64  \n",
            " 16  is_peak_hour         18971 non-null  int64  \n",
            "dtypes: float64(7), int64(7), object(3)\n",
            "memory usage: 2.6+ MB\n",
            "None\n",
            "\n",
            "First few rows:\n",
            "  airline origin destination  scheduled_departure     distance  day_of_week  \\\n",
            "0      NK    CLT         ATL                 1567   780.756149            7   \n",
            "1      WN    DTW         BOS                 1001   931.519627            4   \n",
            "2      F9    SEA         LAS                 1948    28.594683            7   \n",
            "3      B6    CLT         DTW                 1420   657.095898            6   \n",
            "4      NK    MSP         MIA                  548  1188.487391            2   \n",
            "\n",
            "   month  weather_delay  security_delay  aircraft_delay  late_aircraft_delay  \\\n",
            "0      8       5.798010        0.621824        1.982155             2.573745   \n",
            "1      2       0.783117        0.331451        1.864228             7.226666   \n",
            "2      6       1.035584        4.906390        1.230284             2.089511   \n",
            "3      4       9.033412        1.268544        4.028828             5.321389   \n",
            "4      4       1.935593        0.425655        0.227836            12.933371   \n",
            "\n",
            "   air_traffic_delay  delay_minutes  is_weekend  is_holiday_season  \\\n",
            "0           3.275840      40.093584           1                  0   \n",
            "1           1.933990      35.013673           0                  0   \n",
            "2           0.881143      33.627417           1                  1   \n",
            "3           2.947301      37.562273           1                  0   \n",
            "4           0.201498      26.175565           0                  0   \n",
            "\n",
            "   departure_hour  is_peak_hour  \n",
            "0              15             0  \n",
            "1              10             0  \n",
            "2              19             1  \n",
            "3              14             0  \n",
            "4               5             0  \n"
          ]
        }
      ],
      "source": [
        "def load_or_create_dataset():\n",
        "    url = \"https://raw.githubusercontent.com/plotly/datasets/master/2011_february_us_airport_traffic.csv\"\n",
        "    try:\n",
        "        df = pd.read_csv(url)\n",
        "        print(f\"Successfully loaded dataset from URL. Shape: {df.shape}\")\n",
        "        print(f\"Columns: {df.columns.tolist()}\")\n",
        "\n",
        "        if 'delay_minutes' not in df.columns:\n",
        "            print(\"Dataset doesn't have delay_minutes column. Creating synthetic dataset...\")\n",
        "            return create_synthetic_dataset()\n",
        "\n",
        "        return df\n",
        "    except Exception as e:\n",
        "        print(f\"Failed to load dataset from URL: {e}\")\n",
        "        print(\"Creating synthetic dataset...\")\n",
        "        return create_synthetic_dataset()\n",
        "\n",
        "def create_synthetic_dataset():\n",
        "    np.random.seed(42)\n",
        "    n_samples = 20000\n",
        "\n",
        "    airlines = ['AA', 'UA', 'DL', 'WN', 'B6', 'AS', 'NK', 'F9', 'G4', 'SY']\n",
        "    airports = ['JFK', 'LAX', 'ORD', 'DFW', 'DEN', 'SFO', 'SEA', 'LAS', 'PHX', 'IAH',\n",
        "                'ATL', 'BOS', 'CLT', 'DTW', 'MSP', 'PHL', 'MIA', 'LGA', 'BWI', 'MDW']\n",
        "\n",
        "    df = pd.DataFrame({\n",
        "        'airline': np.random.choice(airlines, n_samples),\n",
        "        'origin': np.random.choice(airports, n_samples),\n",
        "        'destination': np.random.choice(airports, n_samples),\n",
        "        'scheduled_departure': np.random.randint(500, 2300, n_samples),\n",
        "        'distance': np.random.gamma(2, 500, n_samples),\n",
        "        'day_of_week': np.random.randint(1, 8, n_samples),\n",
        "        'month': np.random.randint(1, 13, n_samples),\n",
        "        'weather_delay': np.random.exponential(5, n_samples),\n",
        "        'security_delay': np.random.exponential(2, n_samples),\n",
        "        'aircraft_delay': np.random.exponential(3, n_samples),\n",
        "        'late_aircraft_delay': np.random.exponential(4, n_samples),\n",
        "        'air_traffic_delay': np.random.exponential(3, n_samples),\n",
        "    })\n",
        "\n",
        "    df = df[df['origin'] != df['destination']]\n",
        "\n",
        "    base_delay = (\n",
        "        df['distance'] / 100 +\n",
        "        df['weather_delay'] +\n",
        "        df['security_delay'] +\n",
        "        df['aircraft_delay'] +\n",
        "        df['late_aircraft_delay'] +\n",
        "        df['air_traffic_delay'] +\n",
        "        np.where(df['day_of_week'].isin([1, 7]), 15, 0) +\n",
        "        np.where(df['month'].isin([6, 7, 12]), 10, 0) +\n",
        "        np.where(df['scheduled_departure'] < 700, 5, 0) +\n",
        "        np.where(df['scheduled_departure'] > 2000, 12, 0) +\n",
        "        np.random.normal(0, 8, len(df))\n",
        "    )\n",
        "\n",
        "    df['delay_minutes'] = np.maximum(0, base_delay)\n",
        "\n",
        "    df['is_weekend'] = df['day_of_week'].isin([6, 7]).astype(int)\n",
        "    df['is_holiday_season'] = df['month'].isin([6, 7, 11, 12]).astype(int)\n",
        "    df['departure_hour'] = df['scheduled_departure'] // 100\n",
        "    df['is_peak_hour'] = df['departure_hour'].isin([7, 8, 17, 18, 19]).astype(int)\n",
        "\n",
        "    return df\n",
        "\n",
        "df = load_or_create_dataset()\n",
        "\n",
        "print(f\"Final dataset shape: {df.shape}\")\n",
        "print(f\"Memory usage: {df.memory_usage(deep=True).sum() / 1024**2:.2f} MB\")\n",
        "print(\"\\nDataset Info:\")\n",
        "print(df.info())\n",
        "print(\"\\nFirst few rows:\")\n",
        "print(df.head())"
      ]
    },
    {
      "cell_type": "markdown",
      "metadata": {
        "id": "9fFsNa8A1kJC"
      },
      "source": [
        "# Data Quality Assessment"
      ]
    },
    {
      "cell_type": "code",
      "execution_count": 3,
      "metadata": {
        "colab": {
          "base_uri": "https://localhost:8080/"
        },
        "id": "qA5pB_8j1m2T",
        "outputId": "193c79a0-2672-4be3-c530-951b3f2268c5"
      },
      "outputs": [
        {
          "name": "stdout",
          "output_type": "stream",
          "text": [
            "=== DATA QUALITY REPORT ===\n",
            "                    Data_Type  Missing_Count  Missing_Percentage  \\\n",
            "airline                object              0                 0.0   \n",
            "origin                 object              0                 0.0   \n",
            "destination            object              0                 0.0   \n",
            "scheduled_departure     int64              0                 0.0   \n",
            "distance              float64              0                 0.0   \n",
            "day_of_week             int64              0                 0.0   \n",
            "month                   int64              0                 0.0   \n",
            "weather_delay         float64              0                 0.0   \n",
            "security_delay        float64              0                 0.0   \n",
            "aircraft_delay        float64              0                 0.0   \n",
            "late_aircraft_delay   float64              0                 0.0   \n",
            "air_traffic_delay     float64              0                 0.0   \n",
            "delay_minutes         float64              0                 0.0   \n",
            "is_weekend              int64              0                 0.0   \n",
            "is_holiday_season       int64              0                 0.0   \n",
            "departure_hour          int64              0                 0.0   \n",
            "is_peak_hour            int64              0                 0.0   \n",
            "\n",
            "                     Unique_Values  \n",
            "airline                         10  \n",
            "origin                          20  \n",
            "destination                     20  \n",
            "scheduled_departure           1800  \n",
            "distance                     18971  \n",
            "day_of_week                      7  \n",
            "month                           12  \n",
            "weather_delay                18971  \n",
            "security_delay               18971  \n",
            "aircraft_delay               18971  \n",
            "late_aircraft_delay          18971  \n",
            "air_traffic_delay            18971  \n",
            "delay_minutes                18886  \n",
            "is_weekend                       2  \n",
            "is_holiday_season                2  \n",
            "departure_hour                  18  \n",
            "is_peak_hour                     2  \n",
            "\n",
            "Duplicate rows: 0\n",
            "Numerical columns: ['scheduled_departure', 'distance', 'day_of_week', 'month', 'weather_delay', 'security_delay', 'aircraft_delay', 'late_aircraft_delay', 'air_traffic_delay', 'delay_minutes', 'is_weekend', 'is_holiday_season', 'departure_hour', 'is_peak_hour']\n",
            "Categorical columns: ['airline', 'origin', 'destination']\n"
          ]
        }
      ],
      "source": [
        "def data_quality_report(df):\n",
        "    missing_data = df.isnull().sum()\n",
        "    missing_pct = (missing_data / len(df)) * 100\n",
        "    data_types = df.dtypes\n",
        "    unique_counts = df.nunique()\n",
        "    duplicates = df.duplicated().sum()\n",
        "    numerical_cols = df.select_dtypes(include=[np.number]).columns\n",
        "    categorical_cols = df.select_dtypes(include=['object']).columns\n",
        "\n",
        "    quality_report = pd.DataFrame({\n",
        "        'Data_Type': data_types,\n",
        "        'Missing_Count': missing_data,\n",
        "        'Missing_Percentage': missing_pct,\n",
        "        'Unique_Values': unique_counts\n",
        "    })\n",
        "\n",
        "    print(\"=== DATA QUALITY REPORT ===\")\n",
        "    print(quality_report)\n",
        "    print(f\"\\nDuplicate rows: {duplicates}\")\n",
        "    print(f\"Numerical columns: {list(numerical_cols)}\")\n",
        "    print(f\"Categorical columns: {list(categorical_cols)}\")\n",
        "\n",
        "    return quality_report, duplicates, numerical_cols, categorical_cols\n",
        "\n",
        "quality_report, duplicates, numerical_cols, categorical_cols = data_quality_report(df)"
      ]
    },
    {
      "cell_type": "markdown",
      "metadata": {
        "id": "bkvuKTgp1rYb"
      },
      "source": [
        "# Statistical Analysis and Distribution Testing\n"
      ]
    },
    {
      "cell_type": "code",
      "execution_count": 4,
      "metadata": {
        "colab": {
          "base_uri": "https://localhost:8080/"
        },
        "id": "XOsgh-LS1taz",
        "outputId": "e05d75e2-bc63-4e43-bbab-c2c61a3c62df"
      },
      "outputs": [
        {
          "name": "stdout",
          "output_type": "stream",
          "text": [
            "=== STATISTICAL ANALYSIS ===\n",
            "                     count         mean         std      median       min  \\\n",
            "scheduled_departure  18971  1394.387697  521.161169      1392.0       500   \n",
            "distance             18971  1000.980953  706.913768  844.623697  3.218927   \n",
            "day_of_week          18971      3.98271    1.998343         4.0         1   \n",
            "month                18971     6.507933    3.458814         7.0         1   \n",
            "weather_delay        18971     5.113063     5.11178    3.543844  0.000079   \n",
            "security_delay       18971     2.001416    2.001074    1.375136  0.000013   \n",
            "aircraft_delay       18971     3.019087    3.031577    2.102564  0.000014   \n",
            "late_aircraft_delay  18971     3.968649    3.951653    2.757849  0.000195   \n",
            "air_traffic_delay    18971     3.047075    3.040161    2.121032  0.000017   \n",
            "delay_minutes        18971    36.461347   16.226402   35.315083       0.0   \n",
            "is_weekend           18971     0.281588    0.449785         0.0         0   \n",
            "is_holiday_season    18971     0.334721    0.471905         0.0         0   \n",
            "departure_hour       18971    13.449581      5.2031        13.0         5   \n",
            "is_peak_hour         18971     0.279585    0.448807         0.0         0   \n",
            "\n",
            "                             max  skewness  kurtosis shapiro_p jb_p is_normal  \n",
            "scheduled_departure         2299  0.011989 -1.209871       0.0  0.0     False  \n",
            "distance             6778.553103  1.410167  3.037991       0.0  0.0     False  \n",
            "day_of_week                    7  0.008689 -1.248727       0.0  0.0     False  \n",
            "month                         12  0.001438 -1.212717       0.0  0.0     False  \n",
            "weather_delay           57.26613  1.997243  5.923227       0.0  0.0     False  \n",
            "security_delay          18.14459  1.974758   5.57284       0.0  0.0     False  \n",
            "aircraft_delay         32.944199  2.062297   6.41608       0.0  0.0     False  \n",
            "late_aircraft_delay    42.856837  1.959819  5.926502       0.0  0.0     False  \n",
            "air_traffic_delay      32.350544  2.022569  6.256365       0.0  0.0     False  \n",
            "delay_minutes          112.17701  0.376181  0.073248       0.0  0.0     False  \n",
            "is_weekend                     1  0.971211  -1.05675       0.0  0.0     False  \n",
            "is_holiday_season              1  0.700492 -1.509311       0.0  0.0     False  \n",
            "departure_hour                22  0.010744 -1.216581       0.0  0.0     False  \n",
            "is_peak_hour                   1  0.982254 -1.035177       0.0  0.0     False  \n"
          ]
        }
      ],
      "source": [
        "def comprehensive_statistical_analysis(df, target_col):\n",
        "    if target_col not in df.columns:\n",
        "        print(f\"Warning: Target column '{target_col}' not found in dataset\")\n",
        "        return {}\n",
        "\n",
        "    numerical_cols = df.select_dtypes(include=[np.number]).columns\n",
        "    stats_results = {}\n",
        "\n",
        "    print(\"=== STATISTICAL ANALYSIS ===\")\n",
        "    for col in numerical_cols:\n",
        "        if col in df.columns:\n",
        "            data = df[col].dropna()\n",
        "            if len(data) > 0:\n",
        "                sample_size = min(2000, len(data))\n",
        "                sample_data = data.sample(n=sample_size, random_state=42)\n",
        "\n",
        "                shapiro_stat, shapiro_p = shapiro(sample_data)\n",
        "                jb_stat, jb_p = jarque_bera(data)\n",
        "                skewness = stats.skew(data)\n",
        "                kurtosis = stats.kurtosis(data)\n",
        "\n",
        "                stats_results[col] = {\n",
        "                    'count': len(data),\n",
        "                    'mean': data.mean(),\n",
        "                    'std': data.std(),\n",
        "                    'median': data.median(),\n",
        "                    'min': data.min(),\n",
        "                    'max': data.max(),\n",
        "                    'skewness': skewness,\n",
        "                    'kurtosis': kurtosis,\n",
        "                    'shapiro_p': shapiro_p,\n",
        "                    'jb_p': jb_p,\n",
        "                    'is_normal': shapiro_p > 0.05 and jb_p > 0.05\n",
        "                }\n",
        "\n",
        "    stats_df = pd.DataFrame(stats_results).T\n",
        "    print(stats_df)\n",
        "\n",
        "    return stats_results\n",
        "\n",
        "stats_results = comprehensive_statistical_analysis(df, 'delay_minutes')"
      ]
    }
  ],
  "metadata": {
    "colab": {
      "provenance": []
    },
    "kernelspec": {
      "display_name": "Python 3",
      "name": "python3"
    },
    "language_info": {
      "name": "python"
    }
  },
  "nbformat": 4,
  "nbformat_minor": 0
}
